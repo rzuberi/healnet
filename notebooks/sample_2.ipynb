{
 "cells": [
  {
   "cell_type": "markdown",
   "id": "1ae2c8fd3734c812",
   "metadata": {
    "collapsed": false
   },
   "source": [
    "## Imports"
   ]
  },
  {
   "cell_type": "code",
   "execution_count": 1,
   "id": "787ff0241bf48627",
   "metadata": {
    "collapsed": false
   },
   "outputs": [],
   "source": [
    "from healnet.models import HealNet\n",
    "from healnet.etl import MMDataset\n",
    "import torch\n",
    "import einops\n",
    "from torch.utils.data import Dataset, DataLoader\n",
    "from typing import *\n",
    "\n",
    "%load_ext autoreload\n",
    "%autoreload 2"
   ]
  },
  {
   "cell_type": "markdown",
   "id": "5de637307d506881",
   "metadata": {
    "collapsed": false
   },
   "source": [
    "## Synthetic modalities\n",
    "\n",
    "We instantiate a synthetic multimodal dataset for demo purposes. "
   ]
  },
  {
   "cell_type": "code",
   "execution_count": 2,
   "id": "233819ff1c11e04a",
   "metadata": {
    "collapsed": false
   },
   "outputs": [],
   "source": [
    "n = 1000 # number of samples\n",
    "b = 4 # batch size\n",
    "img_c = 3 # image channels\n",
    "tab_c = 1 # tabular channels\n",
    "tab_d = 5000 # tabular features\n",
    "h = 512 # image height\n",
    "w = 512 # image width\n",
    "n_classes = 2 # classification\n",
    "\n",
    "tab_tensor = torch.rand(size=(n, tab_c, tab_d)) # assume 5k tabular features\n",
    "img_tensor = torch.rand(size=(n, img_c, h, w)) # c h w\n",
    "\n",
    "\n",
    "# derive a target\n",
    "target = torch.rand(size=(n,))"
   ]
  },
  {
   "cell_type": "code",
   "execution_count": 16,
   "id": "769f89f9",
   "metadata": {},
   "outputs": [],
   "source": [
    "import os\n",
    "import torch\n",
    "import pandas as pd\n",
    "import h5py\n",
    "from torch.utils.data import Dataset, DataLoader\n",
    "\n",
    "# Define the custom dataset class\n",
    "class CustomDataset(Dataset):\n",
    "    def __init__(self, df, img_features_path):\n",
    "        self.df = df.reset_index(drop=True)\n",
    "        self.img_features_path = img_features_path\n",
    "        self.tabular_columns = [col for col in df.columns if col.startswith('cnv')]\n",
    "        \n",
    "    def __len__(self):\n",
    "        return len(self.df)\n",
    "    \n",
    "    def __getitem__(self, idx):\n",
    "        # Extract row data\n",
    "        row = self.df.iloc[idx]\n",
    "        wsi_file_name = row[\"wsi_file_name\"][:-5]  # Adjust as needed\n",
    "        target_label = row[\"progressor_status\"]\n",
    "        \n",
    "        # Convert target label from 'NP'/'P' to 0/1\n",
    "        if target_label == 'P':\n",
    "            target = 1\n",
    "        else:\n",
    "            target = 0\n",
    "        \n",
    "        # Load tabular features\n",
    "        tabular_features = row[self.tabular_columns].values.astype('float32')\n",
    "        tabular_tensor = torch.tensor(tabular_features)\n",
    "        \n",
    "        # Load image features from .h5 file\n",
    "        img_features_file = os.path.join(self.img_features_path, wsi_file_name + \".h5\")\n",
    "        with h5py.File(img_features_file, 'r') as h5_file:\n",
    "            # Extract 'cluster_features' dataset\n",
    "            if \"cluster_features\" in h5_file:\n",
    "                cluster_features = h5_file[\"cluster_features\"][:]\n",
    "            else:\n",
    "                raise KeyError(f\"'cluster_features' not found in {img_features_file}\")\n",
    "            \n",
    "        # Convert cluster features to a tensor\n",
    "        img_features_tensor = torch.tensor(cluster_features, dtype=torch.float32)\n",
    "        \n",
    "        # Prepare the target tensor\n",
    "        target_tensor = torch.tensor(target, dtype=torch.float32)\n",
    "        \n",
    "        return {\n",
    "            'tabular': tabular_tensor,\n",
    "            'image': img_features_tensor,\n",
    "            'target': target_tensor\n",
    "        }\n",
    "\n",
    "# Paths to your data\n",
    "path_to_img_features = \"/scratchc/fmlab/zuberi01/masters/saved_patches/40x_400/features2/h5_files/\"\n",
    "path_to_csv = \"/scratchc/fmlab/zuberi01/phd/sequoia-pub/examples/matching_rows_sequoia.csv\"\n",
    "\n",
    "# Load the CSV file\n",
    "df = pd.read_csv(path_to_csv)\n",
    "\n",
    "# Split the DataFrame into train, val, and test sets\n",
    "train_df = df[df[\"split_0\"] == \"train\"]\n",
    "val_df = df[df[\"split_0\"] == \"val\"]\n",
    "test_df = df[df[\"split_0\"] == \"test\"]\n",
    "\n",
    "# Create datasets for each split\n",
    "train_dataset = CustomDataset(train_df, path_to_img_features)\n",
    "val_dataset = CustomDataset(val_df, path_to_img_features)\n",
    "test_dataset = CustomDataset(test_df, path_to_img_features)\n",
    "\n",
    "# Define loader arguments\n",
    "loader_args = {\n",
    "    \"batch_size\": 4,  # Adjust batch size as needed\n",
    "    \"shuffle\": True, \n",
    "    \"num_workers\": 8, \n",
    "    \"pin_memory\": True, \n",
    "    \"multiprocessing_context\": \"fork\", \n",
    "    \"persistent_workers\": True, \n",
    "}\n",
    "\n",
    "# Create DataLoaders for each dataset\n",
    "train_loader = DataLoader(train_dataset, **loader_args)\n",
    "val_loader = DataLoader(val_dataset, **loader_args)\n",
    "test_loader = DataLoader(test_dataset, **loader_args)\n",
    "\n",
    "# Example usage: iterate over the training data\n",
    "for batch in train_loader:\n",
    "    tabular_data = batch['tabular']\n",
    "    image_data = batch['image']\n",
    "    targets = batch['target']\n",
    "    \n",
    "    # Now you can feed tabular_data and image_data into your model\n",
    "    # For example:\n",
    "    # outputs = model(tabular_data, image_data)\n",
    "    # loss = loss_fn(outputs, targets)\n",
    "    # ... (rest of your training loop)\n"
   ]
  },
  {
   "cell_type": "code",
   "execution_count": 35,
   "id": "023d5b5f",
   "metadata": {},
   "outputs": [],
   "source": [
    "# Import the HealNet class\n",
    "from healnet.models.healnet import HealNet\n",
    "\n",
    "# Device configuration\n",
    "device = torch.device('cuda' if torch.cuda.is_available() else 'cpu')\n",
    "\n",
    "# Define the number of classes\n",
    "num_classes = 2  # Adjust based on your dataset\n",
    "\n",
    "# Instantiate the HealNet model\n",
    "model = HealNet(\n",
    "    modalities=2, \n",
    "    input_channels=[1, 1],  # Number of channels per modality\n",
    "    input_axes=[1, 1],       # Updated to match the number of axes per modality\n",
    "    num_classes=num_classes,\n",
    "    # Add other parameters as required by your model configuration\n",
    ").to(device)\n"
   ]
  },
  {
   "cell_type": "code",
   "execution_count": 36,
   "id": "ccc5c171",
   "metadata": {},
   "outputs": [
    {
     "name": "stdout",
     "output_type": "stream",
     "text": [
      "Using device: cpu\n",
      "HealNet model instantiated successfully.\n"
     ]
    },
    {
     "name": "stderr",
     "output_type": "stream",
     "text": [
      "  0%|          | 0/110 [00:00<?, ?it/s]"
     ]
    },
    {
     "name": "stdout",
     "output_type": "stream",
     "text": [
      "\n",
      "Epoch 1, Batch 1\n",
      "Adjusted Tabular Data Shape: torch.Size([4, 1, 561])\n",
      "Adjusted Image Data Shape: torch.Size([4, 1, 100, 1024])\n",
      "Targets Shape: torch.Size([4])\n"
     ]
    },
    {
     "name": "stderr",
     "output_type": "stream",
     "text": [
      "\n"
     ]
    },
    {
     "ename": "AssertionError",
     "evalue": "input data for modality 2 must hav the same number of axis as the input axis parameter",
     "output_type": "error",
     "traceback": [
      "\u001b[0;31m---------------------------------------------------------------------------\u001b[0m",
      "\u001b[0;31mAssertionError\u001b[0m                            Traceback (most recent call last)",
      "Cell \u001b[0;32mIn[36], line 56\u001b[0m\n\u001b[1;32m     53\u001b[0m optimizer\u001b[38;5;241m.\u001b[39mzero_grad()\n\u001b[1;32m     55\u001b[0m \u001b[38;5;66;03m# Forward pass\u001b[39;00m\n\u001b[0;32m---> 56\u001b[0m outputs \u001b[38;5;241m=\u001b[39m \u001b[43mmodel\u001b[49m\u001b[43m(\u001b[49m\u001b[43minputs\u001b[49m\u001b[43m)\u001b[49m                       \u001b[38;5;66;03m# Expected Shape: [batch_size, num_classes]\u001b[39;00m\n\u001b[1;32m     58\u001b[0m \u001b[38;5;66;03m# Debugging: Print outputs shape and sample outputs for the first batch\u001b[39;00m\n\u001b[1;32m     59\u001b[0m \u001b[38;5;28;01mif\u001b[39;00m batch_idx \u001b[38;5;241m==\u001b[39m \u001b[38;5;241m0\u001b[39m:\n",
      "File \u001b[0;32m/home/zuberi01/miniforge3/envs/healnetenv/lib/python3.8/site-packages/torch/nn/modules/module.py:1553\u001b[0m, in \u001b[0;36mModule._wrapped_call_impl\u001b[0;34m(self, *args, **kwargs)\u001b[0m\n\u001b[1;32m   1551\u001b[0m     \u001b[38;5;28;01mreturn\u001b[39;00m \u001b[38;5;28mself\u001b[39m\u001b[38;5;241m.\u001b[39m_compiled_call_impl(\u001b[38;5;241m*\u001b[39margs, \u001b[38;5;241m*\u001b[39m\u001b[38;5;241m*\u001b[39mkwargs)  \u001b[38;5;66;03m# type: ignore[misc]\u001b[39;00m\n\u001b[1;32m   1552\u001b[0m \u001b[38;5;28;01melse\u001b[39;00m:\n\u001b[0;32m-> 1553\u001b[0m     \u001b[38;5;28;01mreturn\u001b[39;00m \u001b[38;5;28;43mself\u001b[39;49m\u001b[38;5;241;43m.\u001b[39;49m\u001b[43m_call_impl\u001b[49m\u001b[43m(\u001b[49m\u001b[38;5;241;43m*\u001b[39;49m\u001b[43margs\u001b[49m\u001b[43m,\u001b[49m\u001b[43m \u001b[49m\u001b[38;5;241;43m*\u001b[39;49m\u001b[38;5;241;43m*\u001b[39;49m\u001b[43mkwargs\u001b[49m\u001b[43m)\u001b[49m\n",
      "File \u001b[0;32m/home/zuberi01/miniforge3/envs/healnetenv/lib/python3.8/site-packages/torch/nn/modules/module.py:1562\u001b[0m, in \u001b[0;36mModule._call_impl\u001b[0;34m(self, *args, **kwargs)\u001b[0m\n\u001b[1;32m   1557\u001b[0m \u001b[38;5;66;03m# If we don't have any hooks, we want to skip the rest of the logic in\u001b[39;00m\n\u001b[1;32m   1558\u001b[0m \u001b[38;5;66;03m# this function, and just call forward.\u001b[39;00m\n\u001b[1;32m   1559\u001b[0m \u001b[38;5;28;01mif\u001b[39;00m \u001b[38;5;129;01mnot\u001b[39;00m (\u001b[38;5;28mself\u001b[39m\u001b[38;5;241m.\u001b[39m_backward_hooks \u001b[38;5;129;01mor\u001b[39;00m \u001b[38;5;28mself\u001b[39m\u001b[38;5;241m.\u001b[39m_backward_pre_hooks \u001b[38;5;129;01mor\u001b[39;00m \u001b[38;5;28mself\u001b[39m\u001b[38;5;241m.\u001b[39m_forward_hooks \u001b[38;5;129;01mor\u001b[39;00m \u001b[38;5;28mself\u001b[39m\u001b[38;5;241m.\u001b[39m_forward_pre_hooks\n\u001b[1;32m   1560\u001b[0m         \u001b[38;5;129;01mor\u001b[39;00m _global_backward_pre_hooks \u001b[38;5;129;01mor\u001b[39;00m _global_backward_hooks\n\u001b[1;32m   1561\u001b[0m         \u001b[38;5;129;01mor\u001b[39;00m _global_forward_hooks \u001b[38;5;129;01mor\u001b[39;00m _global_forward_pre_hooks):\n\u001b[0;32m-> 1562\u001b[0m     \u001b[38;5;28;01mreturn\u001b[39;00m \u001b[43mforward_call\u001b[49m\u001b[43m(\u001b[49m\u001b[38;5;241;43m*\u001b[39;49m\u001b[43margs\u001b[49m\u001b[43m,\u001b[49m\u001b[43m \u001b[49m\u001b[38;5;241;43m*\u001b[39;49m\u001b[38;5;241;43m*\u001b[39;49m\u001b[43mkwargs\u001b[49m\u001b[43m)\u001b[49m\n\u001b[1;32m   1564\u001b[0m \u001b[38;5;28;01mtry\u001b[39;00m:\n\u001b[1;32m   1565\u001b[0m     result \u001b[38;5;241m=\u001b[39m \u001b[38;5;28;01mNone\u001b[39;00m\n",
      "File \u001b[0;32m/mnt/scratchc/fmlab/zuberi01/phd/healnet/healnet/models/healnet.py:287\u001b[0m, in \u001b[0;36mHealNet.forward\u001b[0;34m(self, tensors, mask, missing, return_embeddings)\u001b[0m\n\u001b[1;32m    285\u001b[0m \u001b[38;5;66;03m# sanity checks\u001b[39;00m\n\u001b[1;32m    286\u001b[0m b, \u001b[38;5;241m*\u001b[39maxis, _, device, dtype \u001b[38;5;241m=\u001b[39m \u001b[38;5;241m*\u001b[39mdata\u001b[38;5;241m.\u001b[39mshape, data\u001b[38;5;241m.\u001b[39mdevice, data\u001b[38;5;241m.\u001b[39mdtype\n\u001b[0;32m--> 287\u001b[0m \u001b[38;5;28;01massert\u001b[39;00m \u001b[38;5;28mlen\u001b[39m(axis) \u001b[38;5;241m==\u001b[39m \u001b[38;5;28mself\u001b[39m\u001b[38;5;241m.\u001b[39minput_axes[i], (\u001b[38;5;124mf\u001b[39m\u001b[38;5;124m'\u001b[39m\u001b[38;5;124minput data for modality \u001b[39m\u001b[38;5;132;01m{\u001b[39;00mi\u001b[38;5;241m+\u001b[39m\u001b[38;5;241m1\u001b[39m\u001b[38;5;132;01m}\u001b[39;00m\u001b[38;5;124m must hav\u001b[39m\u001b[38;5;124m'\u001b[39m\n\u001b[1;32m    288\u001b[0m                                               \u001b[38;5;124mf\u001b[39m\u001b[38;5;124m'\u001b[39m\u001b[38;5;124m the same number of axis as the input axis parameter\u001b[39m\u001b[38;5;124m'\u001b[39m)\n\u001b[1;32m    290\u001b[0m \u001b[38;5;66;03m# fourier encode for each modality\u001b[39;00m\n\u001b[1;32m    291\u001b[0m \u001b[38;5;28;01mif\u001b[39;00m \u001b[38;5;28mself\u001b[39m\u001b[38;5;241m.\u001b[39mfourier_encode_data:\n",
      "\u001b[0;31mAssertionError\u001b[0m: input data for modality 2 must hav the same number of axis as the input axis parameter"
     ]
    }
   ],
   "source": [
    "import torch\n",
    "import torch.optim as optim\n",
    "import torch.nn as nn\n",
    "from tqdm import tqdm\n",
    "from healnet.models.healnet import HealNet\n",
    "\n",
    "# Device configuration\n",
    "device = torch.device('cuda' if torch.cuda.is_available() else 'cpu')\n",
    "print(f\"Using device: {device}\")\n",
    "\n",
    "# Define the number of classes\n",
    "num_classes = 2  # Adjust based on your dataset\n",
    "\n",
    "# Instantiate the HealNet model with updated input_axes\n",
    "model = HealNet(\n",
    "    modalities=2, \n",
    "    input_channels=[1, 1],  # Number of channels per modality\n",
    "    input_axes=[1, 1],       # Updated to match the number of axes per modality\n",
    "    num_classes=num_classes,\n",
    "    # Add other parameters as required by your model configuration\n",
    ").to(device)\n",
    "\n",
    "print(\"HealNet model instantiated successfully.\")\n",
    "\n",
    "# Define loss function and optimizer\n",
    "loss_fn = nn.CrossEntropyLoss()\n",
    "optimizer = optim.Adam(model.parameters(), lr=1e-3)\n",
    "\n",
    "# Number of epochs\n",
    "num_epochs = 10  # Adjust as needed\n",
    "\n",
    "# Training loop\n",
    "for epoch in range(num_epochs):\n",
    "    model.train()\n",
    "    running_loss = 0.0\n",
    "    for batch_idx, batch in enumerate(tqdm(train_loader)):\n",
    "        # Retrieve data and move to device\n",
    "        tabular_data = batch['tabular'].to(device).unsqueeze(1)  # Shape: [batch_size, 1, num_tabular_features]\n",
    "        image_data = batch['image'].to(device).unsqueeze(1)      # Shape: [batch_size, 1, num_image_features]\n",
    "        targets = batch['target'].long().to(device)             # Shape: [batch_size]\n",
    "\n",
    "        # Debugging: Print shapes for the first batch of each epoch\n",
    "        if batch_idx == 0:\n",
    "            print(f\"\\nEpoch {epoch+1}, Batch {batch_idx+1}\")\n",
    "            print(f\"Adjusted Tabular Data Shape: {tabular_data.shape}\")\n",
    "            print(f\"Adjusted Image Data Shape: {image_data.shape}\")\n",
    "            print(f\"Targets Shape: {targets.shape}\")\n",
    "\n",
    "        # Prepare inputs\n",
    "        inputs = [tabular_data, image_data]\n",
    "\n",
    "        # Zero the parameter gradients\n",
    "        optimizer.zero_grad()\n",
    "\n",
    "        # Forward pass\n",
    "        outputs = model(inputs)                       # Expected Shape: [batch_size, num_classes]\n",
    "\n",
    "        # Debugging: Print outputs shape and sample outputs for the first batch\n",
    "        if batch_idx == 0:\n",
    "            print(f\"Outputs Shape: {outputs.shape}\")\n",
    "            print(f\"Outputs Sample: {outputs[:2]}\")\n",
    "\n",
    "        # Compute loss\n",
    "        loss = loss_fn(outputs, targets)\n",
    "\n",
    "        # Backward pass and optimization\n",
    "        loss.backward()\n",
    "        optimizer.step()\n",
    "\n",
    "        # Accumulate loss\n",
    "        running_loss += loss.item()\n",
    "\n",
    "    # Calculate average loss for the epoch\n",
    "    epoch_loss = running_loss / len(train_loader)\n",
    "    print(f\"\\nEpoch [{epoch+1}/{num_epochs}], Loss: {epoch_loss:.4f}\")\n",
    "\n",
    "    # Validation loop\n",
    "    model.eval()\n",
    "    val_running_loss = 0.0\n",
    "    with torch.no_grad():\n",
    "        for val_batch_idx, batch in enumerate(val_loader):\n",
    "            tabular_data = batch['tabular'].to(device).unsqueeze(1)  # Shape: [batch_size, 1, num_tabular_features]\n",
    "            image_data = batch['image'].to(device).unsqueeze(1)      # Shape: [batch_size, 1, num_image_features]\n",
    "            targets = batch['target'].long().to(device)             # Shape: [batch_size]\n",
    "\n",
    "            # Prepare inputs\n",
    "            inputs = [tabular_data, image_data]\n",
    "\n",
    "            # Forward pass\n",
    "            outputs = model(inputs)\n",
    "            val_loss = loss_fn(outputs, targets)\n",
    "            val_running_loss += val_loss.item()\n",
    "\n",
    "            # Debugging: Print validation outputs shape and sample outputs for the first batch\n",
    "            if val_batch_idx == 0:\n",
    "                print(f\"Validation Outputs Shape: {outputs.shape}\")\n",
    "                print(f\"Validation Outputs Sample: {outputs[:2]}\")\n",
    "\n",
    "    val_epoch_loss = val_running_loss / len(val_loader)\n",
    "    print(f\"Validation Loss: {val_epoch_loss:.4f}\\n\")\n",
    "\n",
    "# After training, evaluate on the test set\n",
    "model.eval()\n",
    "test_running_loss = 0.0\n",
    "correct = 0\n",
    "total = 0\n",
    "with torch.no_grad():\n",
    "    for test_batch_idx, batch in enumerate(tqdm(test_loader)):\n",
    "        tabular_data = batch['tabular'].to(device).unsqueeze(1)  # Shape: [batch_size, 1, num_tabular_features]\n",
    "        image_data = batch['image'].to(device).unsqueeze(1)      # Shape: [batch_size, 1, num_image_features]\n",
    "        targets = batch['target'].long().to(device)             # Shape: [batch_size]\n",
    "\n",
    "        # Prepare inputs\n",
    "        inputs = [tabular_data, image_data]\n",
    "\n",
    "        # Forward pass\n",
    "        outputs = model(inputs)\n",
    "        test_loss = loss_fn(outputs, targets)\n",
    "        test_running_loss += test_loss.item()\n",
    "\n",
    "        # Compute predictions\n",
    "        _, predicted = torch.max(outputs.data, 1)\n",
    "        total += targets.size(0)\n",
    "        correct += (predicted == targets).sum().item()\n",
    "\n",
    "        # Debugging: Print test outputs shape and sample outputs for the first batch\n",
    "        if test_batch_idx == 0:\n",
    "            print(f\"Test Outputs Shape: {outputs.shape}\")\n",
    "            print(f\"Test Outputs Sample: {outputs[:2]}\")\n",
    "\n",
    "test_epoch_loss = test_running_loss / len(test_loader)\n",
    "test_accuracy = 100 * correct / total\n",
    "print(f\"Test Loss: {test_epoch_loss:.4f}, Test Accuracy: {test_accuracy:.2f}%\")\n"
   ]
  },
  {
   "cell_type": "code",
   "execution_count": null,
   "id": "d1350459",
   "metadata": {},
   "outputs": [],
   "source": []
  },
  {
   "cell_type": "code",
   "execution_count": 16,
   "id": "1df31a7b4a69e7aa",
   "metadata": {
    "collapsed": false
   },
   "outputs": [],
   "source": [
    "data = MMDataset([tab_tensor, img_tensor], target)\n",
    "train, test, val = torch.utils.data.random_split(data, [0.7, 0.15, 0.15]) # create 70-15-15 train-val-test split\n",
    "\n",
    "loader_args = {\n",
    "    \"shuffle\": True, \n",
    "    \"num_workers\": 8, \n",
    "    \"pin_memory\": True, \n",
    "    \"multiprocessing_context\": \"fork\", \n",
    "    \"persistent_workers\": True, \n",
    "}\n",
    "\n",
    "train_loader = DataLoader(train, **loader_args)\n",
    "val_loader = DataLoader(val, **loader_args)\n",
    "test_loader = DataLoader(test, **loader_args)\n",
    "# example use"
   ]
  },
  {
   "cell_type": "code",
   "execution_count": 17,
   "id": "45ab1e79c8bc3a21",
   "metadata": {
    "collapsed": false
   },
   "outputs": [],
   "source": [
    "# example use\n",
    "[tab_sample, img_sample], target = data[0]\n",
    "\n",
    "# emulate batch dimension\n",
    "tab_sample = einops.repeat(tab_sample, 'c d -> b c d', b=1)\n",
    "img_sample = einops.repeat(img_sample, 'c h w -> b c (h w)', b=1)"
   ]
  },
  {
   "cell_type": "code",
   "execution_count": 18,
   "id": "38724a29f4142f8e",
   "metadata": {
    "collapsed": false
   },
   "outputs": [
    {
     "data": {
      "text/plain": [
       "torch.Size([1, 3, 262144])"
      ]
     },
     "execution_count": 18,
     "metadata": {},
     "output_type": "execute_result"
    }
   ],
   "source": [
    "img_sample.shape"
   ]
  },
  {
   "cell_type": "code",
   "execution_count": 19,
   "id": "504d15c029cf68e0",
   "metadata": {
    "collapsed": false
   },
   "outputs": [],
   "source": [
    "model = HealNet(\n",
    "            modalities=2, \n",
    "            input_channels=[tab_c, img_c], \n",
    "            input_axes=[1, 1], # channel axes (0-indexed)\n",
    "            num_classes = n_classes,  \n",
    "        )"
   ]
  },
  {
   "cell_type": "code",
   "execution_count": 21,
   "id": "d9e77fe00f07c904",
   "metadata": {
    "collapsed": false
   },
   "outputs": [
    {
     "data": {
      "text/plain": [
       "tensor([[0.9904, 0.2519]], grad_fn=<AddmmBackward0>)"
      ]
     },
     "execution_count": 21,
     "metadata": {},
     "output_type": "execute_result"
    }
   ],
   "source": [
    "# forward pass\n",
    "model([tab_sample, img_sample])"
   ]
  }
 ],
 "metadata": {
  "kernelspec": {
   "display_name": "healnetenv",
   "language": "python",
   "name": "python3"
  },
  "language_info": {
   "codemirror_mode": {
    "name": "ipython",
    "version": 3
   },
   "file_extension": ".py",
   "mimetype": "text/x-python",
   "name": "python",
   "nbconvert_exporter": "python",
   "pygments_lexer": "ipython3",
   "version": "3.8.20"
  }
 },
 "nbformat": 4,
 "nbformat_minor": 5
}
